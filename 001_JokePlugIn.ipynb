{
 "cells": [
  {
   "cell_type": "markdown",
   "metadata": {},
   "source": [
    "### Semantic Kernel Test Notebook\n",
    "\n",
    "This notebook is intended to ensure you have semantic kernel setup on your enviornment.\n",
    "You should have a **.env** file that contains the following parameters that are used by semantic kernel\n",
    "\n",
    "This was tested on version 1.8.2 of Semantic Kernel\n",
    "\n",
    "```\n",
    "GLOBAL_LLM_SERVICE=\"AzureOpenAI\"\n",
    "AZURE_OPENAI_API_KEY=\"XXX\"\n",
    "AZURE_OPENAI_ENDPOINT=\"YYYY\"\n",
    "AZURE_OPENAI_CHAT_DEPLOYMENT_NAME=\"gpt-4o-global\"\n",
    "AZURE_OPENAI_TEXT_DEPLOYMENT_NAME=\"gpt-4o-global\"\n",
    "AZURE_OPENAI_EMBEDDING_DEPLOYMENT_NAME=\"text-embedding-ada-002\"\n",
    "AZURE_OPENAI_API_VERSION=\"2024-05-01-preview\"\n",
    "##Semantic Kernel Settings:\n",
    "AZURE_AISEARCH_API_KEY=\"\"\n",
    "AZURE_AISEARCH_URL=\"\"\n",
    "```"
   ]
  },
  {
   "cell_type": "code",
   "execution_count": 1,
   "metadata": {},
   "outputs": [
    {
     "data": {
      "text/plain": [
       "'1.8.2'"
      ]
     },
     "execution_count": 1,
     "metadata": {},
     "output_type": "execute_result"
    }
   ],
   "source": [
    "# Note: if using a virtual environment, do not run this cell\n",
    "#%pip install -U semantic-kernel\n",
    "from semantic_kernel import __version__\n",
    "\n",
    "__version__"
   ]
  },
  {
   "cell_type": "code",
   "execution_count": 2,
   "metadata": {},
   "outputs": [],
   "source": [
    "from services import Service\n",
    "from service_settings import ServiceSettings\n",
    "from semantic_kernel import Kernel\n",
    "from semantic_kernel.connectors.ai.open_ai import AzureChatCompletion\n",
    "from semantic_kernel.functions import KernelArguments\n",
    "import os\n"
   ]
  },
  {
   "cell_type": "markdown",
   "metadata": {},
   "source": [
    "### Setting up the Kernel\n",
    "Set up the kernel and add a plug in for a joke.  The Plug in is in teh folder **FunPlugin\\Joke**"
   ]
  },
  {
   "cell_type": "code",
   "execution_count": 3,
   "metadata": {},
   "outputs": [],
   "source": [
    "\n",
    "kernel = Kernel()\n",
    "service_settings = ServiceSettings.create()\n",
    "# Remove all services so that this cell can be re-run without restarting the kernel\n",
    "kernel.remove_all_services()\n",
    "\n",
    "service_id = \"default\"\n",
    "kernel.add_service(AzureChatCompletion(service_id=service_id,),)\n",
    "parent_directory = os.getcwd()\n",
    "plugin = kernel.add_plugin(parent_directory=parent_directory, plugin_name=\"FunPlugin\")\n",
    "joke_function = plugin[\"Joke\"]  "
   ]
  },
  {
   "cell_type": "markdown",
   "metadata": {},
   "source": [
    "## Invoke the method"
   ]
  },
  {
   "cell_type": "code",
   "execution_count": 4,
   "metadata": {},
   "outputs": [
    {
     "name": "stdout",
     "output_type": "stream",
     "text": [
      "Why don't time travelers ever win at hide and seek with dinosaurs?\n",
      "\n",
      "Because no matter where they hide, the T-Rex always says, \"I know you're here, I can smell you millions of years away!\"\n"
     ]
    }
   ],
   "source": [
    "joke = await kernel.invoke(joke_function,KernelArguments(input=\"time travel to dinosaur age\", style=\"super silly\"),)\n",
    "print(joke)"
   ]
  },
  {
   "cell_type": "code",
   "execution_count": null,
   "metadata": {},
   "outputs": [],
   "source": []
  }
 ],
 "metadata": {
  "kernelspec": {
   "display_name": "Python 3",
   "language": "python",
   "name": "python3"
  },
  "language_info": {
   "codemirror_mode": {
    "name": "ipython",
    "version": 3
   },
   "file_extension": ".py",
   "mimetype": "text/x-python",
   "name": "python",
   "nbconvert_exporter": "python",
   "pygments_lexer": "ipython3",
   "version": "3.11.9"
  }
 },
 "nbformat": 4,
 "nbformat_minor": 2
}
