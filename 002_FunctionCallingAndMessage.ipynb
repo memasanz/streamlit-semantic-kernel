{
 "cells": [
  {
   "cell_type": "code",
   "execution_count": 9,
   "metadata": {},
   "outputs": [
    {
     "data": {
      "text/plain": [
       "'1.8.2'"
      ]
     },
     "execution_count": 9,
     "metadata": {},
     "output_type": "execute_result"
    }
   ],
   "source": [
    "# Note: if using a virtual environment, do not run this cell\n",
    "#%pip install -U semantic-kernel\n",
    "from semantic_kernel import __version__\n",
    "\n",
    "__version__"
   ]
  },
  {
   "cell_type": "markdown",
   "metadata": {},
   "source": [
    "### Semantic Kernel Test Notebook\n",
    "\n",
    "This notebook is intended to ensure you have semantic kernel setup on your enviornment.\n",
    "You should have a **.env** file that contains the following parameters that are used by semantic kernel\n",
    "\n",
    "This was tested on version 1.8.2 of Semantic Kernel\n",
    "\n",
    "```\n",
    "GLOBAL_LLM_SERVICE=\"AzureOpenAI\"\n",
    "AZURE_OPENAI_API_KEY=\"XXX\"\n",
    "AZURE_OPENAI_ENDPOINT=\"YYYY\"\n",
    "AZURE_OPENAI_CHAT_DEPLOYMENT_NAME=\"gpt-4o-global\"\n",
    "AZURE_OPENAI_TEXT_DEPLOYMENT_NAME=\"gpt-4o-global\"\n",
    "AZURE_OPENAI_EMBEDDING_DEPLOYMENT_NAME=\"text-embedding-ada-002\"\n",
    "AZURE_OPENAI_API_VERSION=\"2024-05-01-preview\"\n",
    "##Semantic Kernel Settings:\n",
    "AZURE_AISEARCH_API_KEY=\"\"\n",
    "AZURE_AISEARCH_URL=\"\"\n",
    "```"
   ]
  },
  {
   "cell_type": "code",
   "execution_count": 10,
   "metadata": {},
   "outputs": [],
   "source": [
    "#from services import Service\n",
    "from service_settings import ServiceSettings\n",
    "from semantic_kernel import Kernel\n",
    "from semantic_kernel.connectors.ai.open_ai import AzureChatCompletion\n",
    "from semantic_kernel.functions import KernelArguments\n",
    "\n",
    "\n",
    "from semantic_kernel import Kernel\n",
    "from semantic_kernel.functions import kernel_function\n",
    "from semantic_kernel.connectors.ai.open_ai import AzureChatCompletion\n",
    "from semantic_kernel.connectors.ai.function_call_behavior import FunctionCallBehavior\n",
    "from semantic_kernel.connectors.ai.chat_completion_client_base import ChatCompletionClientBase\n",
    "from semantic_kernel.contents.chat_history import ChatHistory\n",
    "from semantic_kernel.functions.kernel_arguments import KernelArguments\n",
    "from semantic_kernel.connectors.ai.open_ai.prompt_execution_settings.azure_chat_prompt_execution_settings import (\n",
    "    AzureChatPromptExecutionSettings,\n",
    ")\n",
    "\n",
    "from semantic_kernel.contents import ChatMessageContent, TextContent, ImageContent\n",
    "from semantic_kernel.contents.utils.author_role import AuthorRole\n",
    "\n",
    "import os\n",
    "from Plugin.EmailPlugin import EmailPlugin\n"
   ]
  },
  {
   "cell_type": "markdown",
   "metadata": {},
   "source": [
    "### Setting up the Kernel\n",
    "Set up the kernel and add a plug in from a class that is an \"Email Plugin\"\n",
    "\n",
    "Its super basic.  The send_email function takes in a list of recieptns, subject and body.  \n",
    "The kernel will be smart enough to use chat to get that information in order to send an email\n",
    "\n",
    "```\n",
    "from semantic_kernel.functions import kernel_function\n",
    "from typing import List \n",
    "\n",
    "class EmailPlugin:\n",
    "    @kernel_function(\n",
    "        name=\"send_email\",\n",
    "        description=\"Sends an email to a recipient.\"\n",
    "    )\n",
    "    async def send_email(self, recipient_emails: str|List[str], subject: str, body: str):\n",
    "        # Add logic to send an email using the recipient_emails, subject, and body\n",
    "        # For now, we'll just print out a success message to the console\n",
    "        print(\"Email sent!\")\n",
    "        print(\"recipient_emails:\" + recipient_emails)\n",
    "        print(\"subject:\" + subject)\n",
    "        print(\"body:\" + body)\n",
    "```"
   ]
  },
  {
   "cell_type": "code",
   "execution_count": 11,
   "metadata": {},
   "outputs": [
    {
     "data": {
      "text/plain": [
       "KernelPlugin(name='Email', description=None, functions={'send_email': KernelFunctionFromMethod(metadata=KernelFunctionMetadata(name='send_email', plugin_name='Email', description='Sends an email to a recipient.', parameters=[KernelParameterMetadata(name='recipient_emails', description=None, default_value=None, type_='str, list[str]', is_required=True, type_object=None, schema_data={'anyOf': [{'type': 'string'}, {'type': 'object'}]}, function_schema_include=True), KernelParameterMetadata(name='subject', description=None, default_value=None, type_='str', is_required=True, type_object=<class 'str'>, schema_data={'type': 'string'}, function_schema_include=True), KernelParameterMetadata(name='body', description=None, default_value=None, type_='str', is_required=True, type_object=<class 'str'>, schema_data={'type': 'string'}, function_schema_include=True)], is_prompt=False, is_asynchronous=True, return_parameter=KernelParameterMetadata(name='return', description='', default_value=None, type_='Any', is_required=True, type_object=None, schema_data={'type': 'object'}, function_schema_include=True), additional_properties={}), invocation_duration_histogram=<opentelemetry.metrics._internal.instrument._ProxyHistogram object at 0x000002B1A487C390>, streaming_duration_histogram=<opentelemetry.metrics._internal.instrument._ProxyHistogram object at 0x000002B1A3E08250>, method=<bound method EmailPlugin.send_email of <Plugin.EmailPlugin.EmailPlugin object at 0x000002B1BD0681D0>>, stream_method=None)})"
      ]
     },
     "execution_count": 11,
     "metadata": {},
     "output_type": "execute_result"
    }
   ],
   "source": [
    "\n",
    "kernel = Kernel()\n",
    "service_settings = ServiceSettings.create()\n",
    "# Remove all services so that this cell can be re-run without restarting the kernel\n",
    "kernel.remove_all_services()\n",
    "\n",
    "# Select a service to use for this notebook (available services: OpenAI, AzureOpenAI, HuggingFace)\n",
    "# selectedService = (\n",
    "#     Service.AzureOpenAI\n",
    "#     if service_settings.global_llm_service is None\n",
    "#     else Service(service_settings.global_llm_service.lower())\n",
    "# )\n",
    "service_id = \"default\"\n",
    "kernel.add_service(AzureChatCompletion(service_id=service_id,),)\n",
    "kernel.add_plugin(EmailPlugin(),plugin_name=\"Email\",)\n"
   ]
  },
  {
   "cell_type": "markdown",
   "metadata": {},
   "source": [
    "Reference for Chat History:\n",
    "https://learn.microsoft.com/en-us/semantic-kernel/concepts/ai-services/chat-completion/chat-history?pivots=programming-language-python"
   ]
  },
  {
   "cell_type": "markdown",
   "metadata": {},
   "source": []
  },
  {
   "cell_type": "code",
   "execution_count": 12,
   "metadata": {},
   "outputs": [
    {
     "name": "stdout",
     "output_type": "stream",
     "text": [
      "Of course, I'd be happy to help you write an email to your boss. To get started, I'll need some information:\n",
      "\n",
      "1. The subject of the email: What is the main topic or the purpose of the email?\n",
      "2. The content: What specific details do you want to include in the body of the email?\n",
      "3. Tone: Should the email be formal, casual, apologetic, urgent, etc.?\n",
      "4. Any other preferences or special requests: Is there something specific that needs to be mentioned or a particular way you want to structure the email?\n",
      "\n",
      "Please provide me with these details, and then I can help you craft the email.\n"
     ]
    }
   ],
   "source": [
    "from semantic_kernel.connectors.ai.function_choice_behavior import FunctionChoiceBehavior\n",
    "\n",
    "\n",
    "chat_completion : AzureChatCompletion = kernel.get_service(type=ChatCompletionClientBase)\n",
    "\n",
    "# Enable planning\n",
    "execution_settings = AzureChatPromptExecutionSettings(tool_choice=\"auto\")\n",
    "execution_settings.function_choice_behavior = FunctionChoiceBehavior.Auto()\n",
    "# Create a history of the conversation\n",
    "history = ChatHistory()\n",
    "history.add_system_message(\"You are a helpful assistant.\")\n",
    "history.add_user_message(\"Can you help me write an email for my boss?\")\n",
    "\n",
    "result = (await chat_completion.get_chat_message_contents(\n",
    "        chat_history=history,\n",
    "        settings=execution_settings,\n",
    "        kernel=kernel,\n",
    "        arguments=KernelArguments(),\n",
    "    ))[0]\n",
    "print(result)\n",
    "\n",
    "\n",
    "history.add_assistant_message(str(result))\n"
   ]
  },
  {
   "cell_type": "code",
   "execution_count": 16,
   "metadata": {},
   "outputs": [
    {
     "name": "stdout",
     "output_type": "stream",
     "text": [
      "AuthorRole.SYSTEM\n",
      "You are a helpful assistant.\n",
      "AuthorRole.USER\n",
      "Can you help me write an email for my boss?\n",
      "AuthorRole.ASSISTANT\n",
      "Of course, I'd be happy to help you write an email to your boss. To get started, I'll need some information:\n",
      "\n",
      "1. The subject of the email: What is the main topic or the purpose of the email?\n",
      "2. The content: What specific details do you want to include in the body of the email?\n",
      "3. Tone: Should the email be formal, casual, apologetic, urgent, etc.?\n",
      "4. Any other preferences or special requests: Is there something specific that needs to be mentioned or a particular way you want to structure the email?\n",
      "\n",
      "Please provide me with these details, and then I can help you craft the email.\n"
     ]
    }
   ],
   "source": [
    "for hist in history:\n",
    "    print(hist.role)\n",
    "    print(hist.content)"
   ]
  },
  {
   "cell_type": "code",
   "execution_count": 5,
   "metadata": {},
   "outputs": [
    {
     "name": "stdout",
     "output_type": "stream",
     "text": [
      "Certainly! Here's a draft for your email with the information you provided:\n",
      "\n",
      "Subject: Azure is Super Cool\n",
      "\n",
      "Dear [Boss's Name],\n",
      "\n",
      "I hope this message finds you well. I wanted to take a moment to share my excitement about the capabilities we have at our fingertips with Azure AI.\n",
      "\n",
      "As I've delved into our latest project, it's become increasingly clear how powerful Azure's AI services are. The suite of tools available, ranging from machine learning models to cognitive services, has not only streamlined our development process but also opened up innovative avenues for us to explore.\n",
      "\n",
      "I am confident that Azure AI will not only meet but exceed our project objectives with its robust features and seamless integration potential. It is impressive how it simplifies complex tasks, facilitates predictive analytics, and enables us to harness the power of big data with ease.\n",
      "\n",
      "I want to assure you that everything is progressing smoothly. You can rest easy knowing that I have taken the reins of our Azure AI integration, and I am monitoring our advancement attentively. There is no action required from your end at present; I've got this under control.\n",
      "\n",
      "Should any critical decisions or discussions arise, I will promptly bring them to your attention. Meanwhile, I invite you to share any thoughts or directives you may have at your convenience.\n",
      "\n",
      "Thank you for entrusting me with this exciting venture. I am looking forward to sharing further updates and successes as we advance.\n",
      "\n",
      "Warm regards,\n",
      "\n",
      "[Your Name]\n",
      "[Your Position]\n",
      "\n",
      "---\n",
      "\n",
      "Please fill in the placeholders for [Boss's Name], [Your Name], and [Your Position] with the appropriate details. Let me know if there's anything you'd like to change or add. If the email looks good to you, and you'd like to proceed with sending it, please provide the email address, and I can assist you with that as well.\n"
     ]
    }
   ],
   "source": [
    "\n",
    "\n",
    "history.add_user_message(\"subject: Azure is Super Cool, main points: azure ai is very powerful.  My boss doesn't need to do anything, I've got this.  Use a semi-formal tone.\")\n",
    "\n",
    "result = (await chat_completion.get_chat_message_contents(\n",
    "        chat_history=history,\n",
    "      \n",
    "        settings=execution_settings,\n",
    "        kernel=kernel,\n",
    "        arguments=KernelArguments(),\n",
    "    ))[0]\n",
    "print(result)\n",
    "\n",
    "\n",
    "history.add_assistant_message(str(result))"
   ]
  },
  {
   "cell_type": "code",
   "execution_count": 6,
   "metadata": {},
   "outputs": [
    {
     "name": "stdout",
     "output_type": "stream",
     "text": [
      "Email sent!\n",
      "recipient_emails:boss@gmail.com\n",
      "subject:Azure is Super Cool\n",
      "body:Dear [Boss's Name],\n",
      "\n",
      "I hope this message finds you well. I wanted to take a moment to share my excitement about the capabilities we have at our fingertips with Azure AI.\n",
      "\n",
      "As I've delved into our latest project, it's become increasingly clear how powerful Azure's AI services are. The suite of tools available, ranging from machine learning models to cognitive services, has not only streamlined our development process but also opened up innovative avenues for us to explore.\n",
      "\n",
      "I am confident that Azure AI will not only meet but exceed our project objectives with its robust features and seamless integration potential. It is impressive how it simplifies complex tasks, facilitates predictive analytics, and enables us to harness the power of big data with ease.\n",
      "\n",
      "I want to assure you that everything is progressing smoothly. You can rest easy knowing that I have taken the reins of our Azure AI integration, and I am monitoring our advancement attentively. There is no action required from your end at present; I've got this under control.\n",
      "\n",
      "Should any critical decisions or discussions arise, I will promptly bring them to your attention. Meanwhile, I invite you to share any thoughts or directives you may have at your convenience.\n",
      "\n",
      "Thank you for entrusting me with this exciting venture. I am looking forward to sharing further updates and successes as we advance.\n",
      "\n",
      "Warm regards,\n",
      "\n",
      "[Your Name]\n",
      "[Your Position]\n",
      "It appears that the email has been sent successfully.\n",
      "\n",
      "However, there was a mistake—I sent the email without replacing the placeholders [Boss's Name], [Your Name], and [Your Position] with actual details. I apologize for the oversight.\n",
      "\n",
      "Please send a follow-up email with the corrected information directly, or provide me with the correct details, and I'll be happy to send a corrected email on your behalf.\n"
     ]
    }
   ],
   "source": [
    "history.add_user_message(\"ok, boss's email: boss@gmail.com, please send it to her.\")\n",
    "\n",
    "result = (await chat_completion.get_chat_message_contents(\n",
    "        chat_history=history,\n",
    "      \n",
    "        settings=execution_settings,\n",
    "        kernel=kernel,\n",
    "        arguments=KernelArguments(),\n",
    "    ))[0]\n",
    "print(result)\n",
    "\n",
    "history.add_assistant_message(str(result))"
   ]
  },
  {
   "cell_type": "markdown",
   "metadata": {},
   "source": [
    "### Moving on...\n",
    "We can ask for a joke, but this is not using the joke template taht we did in 001_tester.ipynb"
   ]
  },
  {
   "cell_type": "code",
   "execution_count": 7,
   "metadata": {},
   "outputs": [
    {
     "name": "stdout",
     "output_type": "stream",
     "text": [
      "Sure, here's a light-hearted tech joke for you:\n",
      "\n",
      "Why don't programmers like nature?\n",
      "\n",
      "It has too many bugs!\n"
     ]
    }
   ],
   "source": [
    "history.add_user_message(\"tell me a joke\")\n",
    "\n",
    "result = (await chat_completion.get_chat_message_contents(\n",
    "        chat_history=history,\n",
    "      \n",
    "        settings=execution_settings,\n",
    "        kernel=kernel,\n",
    "        arguments=KernelArguments(),\n",
    "    ))[0]\n",
    "print(result)\n",
    "history.add_assistant_message(str(result))"
   ]
  },
  {
   "cell_type": "code",
   "execution_count": 8,
   "metadata": {},
   "outputs": [
    {
     "name": "stdout",
     "output_type": "stream",
     "text": [
      "system:You are a helpful assistant.\n",
      "user:Can you help me write an email for my boss?\n",
      "assistant:Of course! I'd be happy to help you draft an email for your boss. However, before we begin, could you provide me with the following details?\n",
      "\n",
      "1. The purpose of the email: Is it to report progress, ask for feedback, request time off, etc.?\n",
      "2. Key points you want to include: Any specific information or bullet points that should be mentioned in the email.\n",
      "3. The tone of the email: Formal, informal, persuasive, apologetic, etc.\n",
      "4. Any specific phrases or sentences you want to be included in the email.\n",
      "5. Your boss's name and email address (if we are also sending the email).\n",
      "\n",
      "Once you provide this information, I can help you compose a suitable email. If you prefer not to disclose your boss's email address, I can still draft the email, and then you can send it yourself. Let me know how you'd like to proceed!\n",
      "user:subject: Azure is Super Cool, main points: azure ai is very powerful.  My boss doesn't need to do anything, I've got this.  Use a semi-formal tone.\n",
      "assistant:Certainly! Here's a draft for your email with the information you provided:\n",
      "\n",
      "Subject: Azure is Super Cool\n",
      "\n",
      "Dear [Boss's Name],\n",
      "\n",
      "I hope this message finds you well. I wanted to take a moment to share my excitement about the capabilities we have at our fingertips with Azure AI.\n",
      "\n",
      "As I've delved into our latest project, it's become increasingly clear how powerful Azure's AI services are. The suite of tools available, ranging from machine learning models to cognitive services, has not only streamlined our development process but also opened up innovative avenues for us to explore.\n",
      "\n",
      "I am confident that Azure AI will not only meet but exceed our project objectives with its robust features and seamless integration potential. It is impressive how it simplifies complex tasks, facilitates predictive analytics, and enables us to harness the power of big data with ease.\n",
      "\n",
      "I want to assure you that everything is progressing smoothly. You can rest easy knowing that I have taken the reins of our Azure AI integration, and I am monitoring our advancement attentively. There is no action required from your end at present; I've got this under control.\n",
      "\n",
      "Should any critical decisions or discussions arise, I will promptly bring them to your attention. Meanwhile, I invite you to share any thoughts or directives you may have at your convenience.\n",
      "\n",
      "Thank you for entrusting me with this exciting venture. I am looking forward to sharing further updates and successes as we advance.\n",
      "\n",
      "Warm regards,\n",
      "\n",
      "[Your Name]\n",
      "[Your Position]\n",
      "\n",
      "---\n",
      "\n",
      "Please fill in the placeholders for [Boss's Name], [Your Name], and [Your Position] with the appropriate details. Let me know if there's anything you'd like to change or add. If the email looks good to you, and you'd like to proceed with sending it, please provide the email address, and I can assist you with that as well.\n",
      "user:ok, boss's email: boss@gmail.com, please send it to her.\n",
      "assistant:\n",
      "tool:\n",
      "assistant:It appears that the email has been sent successfully.\n",
      "\n",
      "However, there was a mistake—I sent the email without replacing the placeholders [Boss's Name], [Your Name], and [Your Position] with actual details. I apologize for the oversight.\n",
      "\n",
      "Please send a follow-up email with the corrected information directly, or provide me with the correct details, and I'll be happy to send a corrected email on your behalf.\n",
      "user:tell me a joke\n",
      "assistant:Sure, here's a light-hearted tech joke for you:\n",
      "\n",
      "Why don't programmers like nature?\n",
      "\n",
      "It has too many bugs!\n"
     ]
    }
   ],
   "source": [
    "for msg in history.messages:\n",
    "    print(msg.role + \":\" + msg.content)"
   ]
  },
  {
   "cell_type": "code",
   "execution_count": null,
   "metadata": {},
   "outputs": [],
   "source": []
  }
 ],
 "metadata": {
  "kernelspec": {
   "display_name": "Python 3",
   "language": "python",
   "name": "python3"
  },
  "language_info": {
   "codemirror_mode": {
    "name": "ipython",
    "version": 3
   },
   "file_extension": ".py",
   "mimetype": "text/x-python",
   "name": "python",
   "nbconvert_exporter": "python",
   "pygments_lexer": "ipython3",
   "version": "3.11.9"
  }
 },
 "nbformat": 4,
 "nbformat_minor": 2
}
