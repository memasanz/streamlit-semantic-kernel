{
 "cells": [
  {
   "cell_type": "markdown",
   "metadata": {},
   "source": [
    "## Multi-Function Calling within Single Request"
   ]
  },
  {
   "cell_type": "code",
   "execution_count": 1,
   "metadata": {},
   "outputs": [
    {
     "data": {
      "text/plain": [
       "'1.8.2'"
      ]
     },
     "execution_count": 1,
     "metadata": {},
     "output_type": "execute_result"
    }
   ],
   "source": [
    "# Note: if using a virtual environment, do not run this cell\n",
    "#%pip install -U semantic-kernel\n",
    "from semantic_kernel import __version__\n",
    "\n",
    "__version__"
   ]
  },
  {
   "cell_type": "code",
   "execution_count": 2,
   "metadata": {},
   "outputs": [],
   "source": [
    "import asyncio\n",
    "from typing import Annotated\n",
    "\n",
    "from semantic_kernel.agents import ChatCompletionAgent\n",
    "from semantic_kernel.connectors.ai.function_choice_behavior import FunctionChoiceBehavior\n",
    "from semantic_kernel.connectors.ai.open_ai import AzureChatCompletion\n",
    "from semantic_kernel.contents.chat_history import ChatHistory\n",
    "from semantic_kernel.contents.utils.author_role import AuthorRole\n",
    "from semantic_kernel.functions.kernel_function_decorator import kernel_function\n",
    "from semantic_kernel.kernel import Kernel"
   ]
  },
  {
   "cell_type": "code",
   "execution_count": 3,
   "metadata": {},
   "outputs": [
    {
     "name": "stdout",
     "output_type": "stream",
     "text": [
      "# AuthorRole.USER: 'Hello'\n",
      "# AuthorRole.ASSISTANT - Host: 'Hi there! How can I assist you today?'\n",
      "# AuthorRole.USER: 'What is the special is  and how much does it cost?'\n",
      "# AuthorRole.ASSISTANT - Host: 'Today's special is Clam Chowder, and it costs $9.99. Would you like to know more about our menu or place an order?'\n",
      "# AuthorRole.USER: 'Thank you'\n",
      "# AuthorRole.ASSISTANT - Host: 'You're welcome! If you have any more questions or need further assistance, feel free to ask. Enjoy your meal!'\n",
      "Total seconds: 63.26072 seconds\n"
     ]
    }
   ],
   "source": [
    "# Copyright (c) Microsoft. All rights reserved.\n",
    "\n",
    "import nest_asyncio  \n",
    "import datetime\n",
    "import time\n",
    "nest_asyncio.apply() \n",
    "\n",
    "###################################################################\n",
    "# The following sample demonstrates how to create a simple,       #\n",
    "# non-group agent that utilizes plugins defined as part of        #\n",
    "# the Kernel.                                                     #\n",
    "###################################################################\n",
    "\n",
    "# This sample allows for a streaming response verus a non-streaming response\n",
    "streaming = True\n",
    "\n",
    "# Define the agent name and instructions\n",
    "HOST_NAME = \"Host\"\n",
    "HOST_INSTRUCTIONS = \"Answer questions about the menu.\"\n",
    "\n",
    "\n",
    "# Define a sample plugin for the sample\n",
    "class MenuPlugin:\n",
    "    \"\"\"A sample Menu Plugin used for the concept sample.\"\"\"\n",
    "\n",
    "    @kernel_function(description=\"Provides a the of special from the menu.\")\n",
    "    def get_specials(self) -> Annotated[str, \"Returns the special from the menu.\"]:\n",
    "        time.sleep(20)\n",
    "        return \"\"\"\n",
    "        Special Soup: Clam Chowder\n",
    "        \"\"\"\n",
    "\n",
    "    @kernel_function(description=\"Provides the price of the requested menu item.\")\n",
    "    def get_item_price(\n",
    "        self, menu_item: Annotated[str, \"The name of the menu item.\"]\n",
    "    ) -> Annotated[str, \"Returns the price of the menu item.\"]:\n",
    "        time.sleep(40)\n",
    "        return \"$9.99\"\n",
    "\n",
    "\n",
    "# A helper method to invoke the agent with the user input\n",
    "async def invoke_agent(agent: ChatCompletionAgent, input: str, chat: ChatHistory) -> None:\n",
    "    \"\"\"Invoke the agent with the user input.\"\"\"\n",
    "    chat.add_user_message(input)\n",
    "\n",
    "    print(f\"# {AuthorRole.USER}: '{input}'\")\n",
    "\n",
    "    if streaming:\n",
    "        contents = []\n",
    "        content_name = \"\"\n",
    "        async for content in agent.invoke_stream(chat):\n",
    "            content_name = content.name\n",
    "            contents.append(content)\n",
    "        message_content = \"\".join([content.content for content in contents])\n",
    "        print(f\"# {content.role} - {content_name or '*'}: '{message_content}'\")\n",
    "        chat.add_assistant_message(message_content)\n",
    "    else:\n",
    "        async for content in agent.invoke(chat):\n",
    "            print(f\"# {content.role} - {content.name or '*'}: '{content.content}'\")\n",
    "        chat.add_message(content)\n",
    "\n",
    "\n",
    "async def main():\n",
    "    # Create the instance of the Kernel\n",
    "    kernel = Kernel()\n",
    "\n",
    "    # Add the OpenAIChatCompletion AI Service to the Kernel\n",
    "    service_id = \"agent\"\n",
    "    kernel.add_service(AzureChatCompletion(service_id=service_id))\n",
    "\n",
    "    settings = kernel.get_prompt_execution_settings_from_service_id(service_id=service_id)\n",
    "    # Configure the function choice behavior to auto invoke kernel functions\n",
    "    settings.function_choice_behavior = FunctionChoiceBehavior.Auto()\n",
    "\n",
    "    kernel.add_plugin(plugin=MenuPlugin(), plugin_name=\"menu\")\n",
    "\n",
    "    # Create the agent\n",
    "    agent = ChatCompletionAgent(\n",
    "        service_id=\"agent\", kernel=kernel, name=HOST_NAME, instructions=HOST_INSTRUCTIONS, execution_settings=settings\n",
    "    )\n",
    "\n",
    "    # Define the chat history\n",
    "    chat = ChatHistory()\n",
    "\n",
    "    # Respond to user input\n",
    "    await invoke_agent(agent, \"Hello\", chat)\n",
    "    time1 = datetime.datetime.now()\n",
    "    await invoke_agent(agent, \"What is the special is  and how much does it cost?\", chat)\n",
    "    await invoke_agent(agent, \"Thank you\", chat)\n",
    "    time2 = datetime.datetime.now()\n",
    "    time_difference = time2 - time1\n",
    "    print(f\"Total seconds: {time_difference.total_seconds()} seconds\")\n",
    "\n",
    "\n",
    "\n",
    "if __name__ == \"__main__\":\n",
    "    asyncio.run(main())"
   ]
  },
  {
   "cell_type": "code",
   "execution_count": null,
   "metadata": {},
   "outputs": [],
   "source": []
  },
  {
   "cell_type": "code",
   "execution_count": null,
   "metadata": {},
   "outputs": [],
   "source": []
  }
 ],
 "metadata": {
  "kernelspec": {
   "display_name": "Python 3",
   "language": "python",
   "name": "python3"
  },
  "language_info": {
   "codemirror_mode": {
    "name": "ipython",
    "version": 3
   },
   "file_extension": ".py",
   "mimetype": "text/x-python",
   "name": "python",
   "nbconvert_exporter": "python",
   "pygments_lexer": "ipython3",
   "version": "3.11.9"
  }
 },
 "nbformat": 4,
 "nbformat_minor": 2
}
