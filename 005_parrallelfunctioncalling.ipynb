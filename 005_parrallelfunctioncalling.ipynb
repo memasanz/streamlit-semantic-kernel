{
 "cells": [
  {
   "cell_type": "markdown",
   "metadata": {},
   "source": [
    "### Parallel Function Calling Notebook\n",
    "\n",
    "This notebook shows parellel functino calling capability.\n",
    "When you call Azure OpenAI - it can provide you with Mulitple calls that need to be made so you can run them in parallel.\n",
    "\n",
    "The code is executed in your current python kernel, so you need to start a new thread in order to enable them to execute actually in parallel instead of sequentially.\n",
    "This notebook walks you through doing that with Azure OpenAI Parrallel Function Calling\n",
    "\n",
    "### Parallel Function Calling with Parallel Function Execution"
   ]
  },
  {
   "cell_type": "markdown",
   "metadata": {},
   "source": []
  },
  {
   "cell_type": "code",
   "execution_count": 1,
   "metadata": {},
   "outputs": [],
   "source": [
    "import os\n",
    "import json\n",
    "from openai import AzureOpenAI\n",
    "from datetime import datetime, timedelta\n",
    "from zoneinfo import ZoneInfo\n",
    "import time\n",
    "from dotenv import load_dotenv  "
   ]
  },
  {
   "cell_type": "code",
   "execution_count": 2,
   "metadata": {},
   "outputs": [
    {
     "data": {
      "text/plain": [
       "True"
      ]
     },
     "execution_count": 2,
     "metadata": {},
     "output_type": "execute_result"
    }
   ],
   "source": [
    "\n",
    "\n",
    "# Load environment variables from the .env file  \n",
    "load_dotenv()  "
   ]
  },
  {
   "cell_type": "code",
   "execution_count": 3,
   "metadata": {},
   "outputs": [
    {
     "name": "stdout",
     "output_type": "stream",
     "text": [
      "https://mmx-aoai.openai.azure.com/\n",
      "2024-05-01-preview\n",
      "gpt-4-1106\n"
     ]
    }
   ],
   "source": [
    "endpoint = os.getenv(\"AZURE_OPENAI_ENDPOINT\")\n",
    "print(endpoint)\n",
    "key = os.getenv(\"AZURE_OPENAI_API_KEY\")\n",
    "api_version = os.getenv(\"AZURE_OPENAI_API_VERSION\")\n",
    "print(api_version)\n",
    "deployment_name = os.getenv(\"AZURE_OPENAI_CHAT_DEPLOYMENT_NAME\")\n",
    "print(deployment_name)"
   ]
  },
  {
   "cell_type": "code",
   "execution_count": 4,
   "metadata": {},
   "outputs": [],
   "source": [
    "# Initialize the Azure OpenAI client\n",
    "client = AzureOpenAI(\n",
    "    azure_endpoint = endpoint, \n",
    "    api_key=key,  \n",
    "    api_version=api_version\n",
    ")"
   ]
  },
  {
   "cell_type": "code",
   "execution_count": 5,
   "metadata": {},
   "outputs": [],
   "source": [
    "# Simplified weather data\n",
    "WEATHER_DATA = {\n",
    "    \"tokyo\": {\"temperature\": \"10\", \"unit\": \"celsius\"},\n",
    "    \"san francisco\": {\"temperature\": \"72\", \"unit\": \"fahrenheit\"},\n",
    "    \"paris\": {\"temperature\": \"22\", \"unit\": \"celsius\"}\n",
    "}\n",
    "\n",
    "# Simplified timezone data\n",
    "TIMEZONE_DATA = {\n",
    "    \"tokyo\": \"Asia/Tokyo\",\n",
    "    \"san francisco\": \"America/Los_Angeles\",\n",
    "    \"paris\": \"Europe/Paris\"\n",
    "}"
   ]
  },
  {
   "cell_type": "code",
   "execution_count": 6,
   "metadata": {},
   "outputs": [],
   "source": [
    "def get_current_weather(location, unit=None):\n",
    "    \"\"\"Get the current weather for a given location\"\"\"\n",
    "    print(f\"get_current_weather called with location: {location}, unit: {unit}\")  \n",
    "    print('Get Current Weather time' + str(datetime.now()))\n",
    "    time.sleep(20)\n",
    "    \n",
    "    for key in WEATHER_DATA:\n",
    "        if key in location:\n",
    "            print(f\"Weather data found for {key}\")  \n",
    "            weather = WEATHER_DATA[key]\n",
    "            return json.dumps({\n",
    "                \"location\": location,\n",
    "                \"temperature\": weather[\"temperature\"],\n",
    "                \"unit\": unit if unit else weather[\"unit\"]\n",
    "            })\n",
    "    \n",
    "    print(f\"No weather data found for {location}\")  \n",
    "    return json.dumps({\"location\": location, \"temperature\": \"unknown\"})\n",
    "\n",
    "def get_current_time(location):\n",
    "    print('Get Current Time time' + str(datetime.now()))\n",
    "    time.sleep(10)\n",
    "    \"\"\"Get the current time for a given location\"\"\"\n",
    "    print(f\"get_current_time called with location: {location}\")  \n",
    "    location_lower = location.lower()\n",
    "    \n",
    "    for key, timezone in TIMEZONE_DATA.items():\n",
    "        if key in location_lower:\n",
    "            print(f\"Timezone found for {key}\")  \n",
    "            current_time = datetime.now(ZoneInfo(timezone)).strftime(\"%I:%M %p\")\n",
    "            return json.dumps({\n",
    "                \"location\": location,\n",
    "                \"current_time\": current_time\n",
    "            })\n",
    "    \n",
    "    print(f\"No timezone data found for {location_lower}\")  \n",
    "    return json.dumps({\"location\": location, \"current_time\": \"unknown\"})"
   ]
  },
  {
   "cell_type": "markdown",
   "metadata": {},
   "source": [
    "## Parallel Function Calling, but running Sequentially"
   ]
  },
  {
   "cell_type": "code",
   "execution_count": 7,
   "metadata": {},
   "outputs": [
    {
     "name": "stdout",
     "output_type": "stream",
     "text": [
      "Model's response:\n",
      "ChatCompletionMessage(content=None, role='assistant', function_call=None, tool_calls=[ChatCompletionMessageToolCall(id='call_ComOj7bLwwXhNLWwJwRqOLLG', function=Function(arguments='{\"location\": \"San Francisco\", \"unit\": \"celsius\"}', name='get_current_weather'), type='function'), ChatCompletionMessageToolCall(id='call_NMu7tgRDkoWgLR0uhUF7oAmH', function=Function(arguments='{\"location\": \"San Francisco\"}', name='get_current_time'), type='function')])\n",
      "in here\n",
      "Tool call 1\n",
      "Function call: get_current_weather\n",
      "Function arguments: {'location': 'San Francisco', 'unit': 'celsius'}\n",
      "get_current_weather called with location: San Francisco, unit: celsius\n",
      "Get Current Weather time2024-09-08 15:04:30.418478\n",
      "No weather data found for San Francisco\n",
      "Tool call 2\n",
      "Function call: get_current_time\n",
      "Function arguments: {'location': 'San Francisco'}\n",
      "Get Current Time time2024-09-08 15:04:50.419759\n",
      "get_current_time called with location: San Francisco\n",
      "Timezone found for san francisco\n",
      "************************************\n",
      "!!!!!!!!!!!!!!!!!!!!!!!!!!!!!!!!!!!!!!\n",
      "[{'role': 'user', 'content': \"What's the weather and current time in San Francisco\"}, ChatCompletionMessage(content=None, role='assistant', function_call=None, tool_calls=[ChatCompletionMessageToolCall(id='call_ComOj7bLwwXhNLWwJwRqOLLG', function=Function(arguments='{\"location\": \"San Francisco\", \"unit\": \"celsius\"}', name='get_current_weather'), type='function'), ChatCompletionMessageToolCall(id='call_NMu7tgRDkoWgLR0uhUF7oAmH', function=Function(arguments='{\"location\": \"San Francisco\"}', name='get_current_time'), type='function')]), {'tool_call_id': 'call_ComOj7bLwwXhNLWwJwRqOLLG', 'role': 'tool', 'name': 'get_current_weather', 'content': '{\"location\": \"San Francisco\", \"temperature\": \"unknown\"}'}, {'tool_call_id': 'call_NMu7tgRDkoWgLR0uhUF7oAmH', 'role': 'tool', 'name': 'get_current_time', 'content': '{\"location\": \"San Francisco\", \"current_time\": \"01:05 PM\"}'}]\n",
      "******************************************\n",
      "In San Francisco, it is currently 01:05 PM. Unfortunately, I do not have the current temperature for San Francisco at the moment. For up-to-date weather information, please check a reliable weather reporting service.\n"
     ]
    }
   ],
   "source": [
    "\n",
    "def run_conversation():\n",
    "    # Initial user message\n",
    "    messages = [{\"role\": \"user\", \"content\": \"What's the weather and current time in San Francisco\"}]\n",
    "\n",
    "    # Define the functions for the model\n",
    "    tools = [\n",
    "        {\n",
    "            \"type\": \"function\",\n",
    "            \"function\": {\n",
    "                \"name\": \"get_current_weather\",\n",
    "                \"description\": \"Get the current weather in a given location\",\n",
    "                \"parameters\": {\n",
    "                    \"type\": \"object\",\n",
    "                    \"properties\": {\n",
    "                        \"location\": {\n",
    "                            \"type\": \"string\",\n",
    "                            \"description\": \"The city name, e.g. San Francisco\",\n",
    "                        },\n",
    "                        \"unit\": {\"type\": \"string\", \"enum\": [\"celsius\", \"fahrenheit\"]},\n",
    "                    },\n",
    "                    \"required\": [\"location\"],\n",
    "                },\n",
    "            }\n",
    "        },\n",
    "        {\n",
    "            \"type\": \"function\",\n",
    "            \"function\": {\n",
    "                \"name\": \"get_current_time\",\n",
    "                \"description\": \"Get the current time in a given location\",\n",
    "                \"parameters\": {\n",
    "                    \"type\": \"object\",\n",
    "                    \"properties\": {\n",
    "                        \"location\": {\n",
    "                            \"type\": \"string\",\n",
    "                            \"description\": \"The city name, e.g. San Francisco\",\n",
    "                        },\n",
    "                    },\n",
    "                    \"required\": [\"location\"],\n",
    "                },\n",
    "            }\n",
    "        }\n",
    "    ]\n",
    "\n",
    "    # First API call: Ask the model to use the functions\n",
    "    response = client.chat.completions.create(\n",
    "        model=deployment_name,\n",
    "        messages=messages,\n",
    "        tools=tools,\n",
    "        tool_choice=\"auto\",\n",
    "    )\n",
    "\n",
    "    # Process the model's response\n",
    "    response_message = response.choices[0].message\n",
    "    messages.append(response_message)\n",
    "\n",
    "    print(\"Model's response:\")  \n",
    "    print(response_message)  \n",
    "\n",
    "    # Handle function calls\n",
    "    toolcallCount = 0\n",
    "    if response_message.tool_calls:\n",
    "        print('in here')\n",
    "        for tool_call in response_message.tool_calls:\n",
    "            toolcallCount += 1\n",
    "            print(f\"Tool call {toolcallCount}\")\n",
    "            function_name = tool_call.function.name\n",
    "            function_args = json.loads(tool_call.function.arguments)\n",
    "            print(f\"Function call: {function_name}\")  \n",
    "            print(f\"Function arguments: {function_args}\")  \n",
    "            \n",
    "            if function_name == \"get_current_weather\":\n",
    "                function_response = get_current_weather(\n",
    "                    location=function_args.get(\"location\"),\n",
    "                    unit=function_args.get(\"unit\")\n",
    "                )\n",
    "            elif function_name == \"get_current_time\":\n",
    "                function_response = get_current_time(\n",
    "                    location=function_args.get(\"location\")\n",
    "                )\n",
    "            else:\n",
    "                function_response = json.dumps({\"error\": \"Unknown function\"})\n",
    "            \n",
    "            messages.append({\n",
    "                \"tool_call_id\": tool_call.id,\n",
    "                \"role\": \"tool\",\n",
    "                \"name\": function_name,\n",
    "                \"content\": function_response,\n",
    "            })\n",
    "    else:\n",
    "        print(\"No tool calls were made by the model.\")  \n",
    "\n",
    "    print('************************************')\n",
    "    print('!!!!!!!!!!!!!!!!!!!!!!!!!!!!!!!!!!!!!!')\n",
    "    print(messages)\n",
    "    # Second API call: Get the final response from the model\n",
    "    final_response = client.chat.completions.create(\n",
    "        model=deployment_name,\n",
    "        messages=messages,\n",
    "    )\n",
    "\n",
    "    return final_response.choices[0].message.content, messages\n",
    "    return '', messages\n",
    "\n",
    "# Run the conversation and print the result\n",
    "time1 = datetime.now()\n",
    "final_message, messages = run_conversation()\n",
    "time2 = datetime.now()\n",
    "time_difference = time2 - time1\n",
    "print('******************************************')\n",
    "\n",
    "\n",
    "print(final_message)"
   ]
  },
  {
   "cell_type": "code",
   "execution_count": 8,
   "metadata": {},
   "outputs": [
    {
     "name": "stdout",
     "output_type": "stream",
     "text": [
      "Total seconds: 34.007082 seconds\n"
     ]
    }
   ],
   "source": [
    "print(f\"Total seconds: {time_difference.total_seconds()} seconds\")"
   ]
  },
  {
   "cell_type": "code",
   "execution_count": 9,
   "metadata": {},
   "outputs": [
    {
     "data": {
      "text/plain": [
       "[{'role': 'user',\n",
       "  'content': \"What's the weather and current time in San Francisco\"},\n",
       " ChatCompletionMessage(content=None, role='assistant', function_call=None, tool_calls=[ChatCompletionMessageToolCall(id='call_ComOj7bLwwXhNLWwJwRqOLLG', function=Function(arguments='{\"location\": \"San Francisco\", \"unit\": \"celsius\"}', name='get_current_weather'), type='function'), ChatCompletionMessageToolCall(id='call_NMu7tgRDkoWgLR0uhUF7oAmH', function=Function(arguments='{\"location\": \"San Francisco\"}', name='get_current_time'), type='function')]),\n",
       " {'tool_call_id': 'call_ComOj7bLwwXhNLWwJwRqOLLG',\n",
       "  'role': 'tool',\n",
       "  'name': 'get_current_weather',\n",
       "  'content': '{\"location\": \"San Francisco\", \"temperature\": \"unknown\"}'},\n",
       " {'tool_call_id': 'call_NMu7tgRDkoWgLR0uhUF7oAmH',\n",
       "  'role': 'tool',\n",
       "  'name': 'get_current_time',\n",
       "  'content': '{\"location\": \"San Francisco\", \"current_time\": \"01:05 PM\"}'}]"
      ]
     },
     "execution_count": 9,
     "metadata": {},
     "output_type": "execute_result"
    }
   ],
   "source": [
    "messages"
   ]
  },
  {
   "cell_type": "markdown",
   "metadata": {},
   "source": []
  },
  {
   "cell_type": "markdown",
   "metadata": {},
   "source": [
    "## Parallel Function Calling with Parallel Function Execution"
   ]
  },
  {
   "cell_type": "code",
   "execution_count": 10,
   "metadata": {},
   "outputs": [
    {
     "name": "stdout",
     "output_type": "stream",
     "text": [
      "Model's response:\n",
      "ChatCompletionMessage(content=None, role='assistant', function_call=None, tool_calls=[ChatCompletionMessageToolCall(id='call_ComOj7bLwwXhNLWwJwRqOLLG', function=Function(arguments='{\"location\": \"San Francisco\", \"unit\": \"celsius\"}', name='get_current_weather'), type='function'), ChatCompletionMessageToolCall(id='call_NMu7tgRDkoWgLR0uhUF7oAmH', function=Function(arguments='{\"location\": \"San Francisco\"}', name='get_current_time'), type='function')])\n",
      "Function call: get_current_weather\n",
      "Function arguments: {'location': 'San Francisco', 'unit': 'celsius'}\n",
      "get_current_weather called with location: San Francisco, unit: celsius\n",
      "Get Current Weather time2024-09-08 15:05:04.944895\n",
      "Function call: get_current_time\n",
      "Function arguments: {'location': 'San Francisco'}\n",
      "Get Current Time time2024-09-08 15:05:04.945892\n",
      "get_current_time called with location: San Francisco\n",
      "Timezone found for san francisco\n",
      "Tool call 1\n",
      "No weather data found for San Francisco\n",
      "Tool call 2\n",
      "************************************\n",
      "!!!!!!!!!!!!!!!!!!!!!!!!!!!!!!!!\n",
      "[{'role': 'user', 'content': \"What's the weather and current time in San Francisco\"}, ChatCompletionMessage(content=None, role='assistant', function_call=None, tool_calls=[ChatCompletionMessageToolCall(id='call_ComOj7bLwwXhNLWwJwRqOLLG', function=Function(arguments='{\"location\": \"San Francisco\", \"unit\": \"celsius\"}', name='get_current_weather'), type='function'), ChatCompletionMessageToolCall(id='call_NMu7tgRDkoWgLR0uhUF7oAmH', function=Function(arguments='{\"location\": \"San Francisco\"}', name='get_current_time'), type='function')]), {'tool_call_id': 'call_NMu7tgRDkoWgLR0uhUF7oAmH', 'role': 'tool', 'name': 'get_current_time', 'content': '{\"location\": \"San Francisco\", \"current_time\": \"01:05 PM\"}'}, {'tool_call_id': 'call_ComOj7bLwwXhNLWwJwRqOLLG', 'role': 'tool', 'name': 'get_current_weather', 'content': '{\"location\": \"San Francisco\", \"temperature\": \"unknown\"}'}]\n",
      "******************************************\n",
      "As of the last update, the current time in San Francisco is 01:05 PM. However, I'm unable to retrieve the current temperature at this moment. Please check a reliable weather service for the latest weather information in San Francisco.\n"
     ]
    }
   ],
   "source": [
    "\n",
    "from concurrent.futures import ThreadPoolExecutor, as_completed \n",
    "\n",
    "def handle_tool_call(tool_call):  \n",
    "    function_name = tool_call.function.name  \n",
    "    function_args = json.loads(tool_call.function.arguments)  \n",
    "    print(f\"Function call: {function_name}\")  \n",
    "    print(f\"Function arguments: {function_args}\")  \n",
    "  \n",
    "    if function_name == \"get_current_weather\":  \n",
    "        return {  \n",
    "            \"tool_call_id\": tool_call.id,  \n",
    "            \"role\": \"tool\",  \n",
    "            \"name\": function_name,  \n",
    "            \"content\": get_current_weather(  \n",
    "                location=function_args.get(\"location\"),  \n",
    "                unit=function_args.get(\"unit\")  \n",
    "            ),  \n",
    "        }  \n",
    "    elif function_name == \"get_current_time\":  \n",
    "        return {  \n",
    "            \"tool_call_id\": tool_call.id,  \n",
    "            \"role\": \"tool\",  \n",
    "            \"name\": function_name,  \n",
    "            \"content\": get_current_time(  \n",
    "                location=function_args.get(\"location\")  \n",
    "            ),  \n",
    "        }  \n",
    "    else:  \n",
    "        return {  \n",
    "            \"tool_call_id\": tool_call.id,  \n",
    "            \"role\": \"tool\",  \n",
    "            \"name\": function_name,  \n",
    "            \"content\": json.dumps({\"error\": \"Unknown function\"}),  \n",
    "        }  \n",
    "    \n",
    "\n",
    "def run_conversation():\n",
    "    # Initial user message\n",
    "    messages = [{\"role\": \"user\", \"content\": \"What's the weather and current time in San Francisco\"}]\n",
    "\n",
    "    # Define the functions for the model\n",
    "    tools = [\n",
    "        {\n",
    "            \"type\": \"function\",\n",
    "            \"function\": {\n",
    "                \"name\": \"get_current_weather\",\n",
    "                \"description\": \"Get the current weather in a given location\",\n",
    "                \"parameters\": {\n",
    "                    \"type\": \"object\",\n",
    "                    \"properties\": {\n",
    "                        \"location\": {\n",
    "                            \"type\": \"string\",\n",
    "                            \"description\": \"The city name, e.g. San Francisco\",\n",
    "                        },\n",
    "                        \"unit\": {\"type\": \"string\", \"enum\": [\"celsius\", \"fahrenheit\"]},\n",
    "                    },\n",
    "                    \"required\": [\"location\"],\n",
    "                },\n",
    "            }\n",
    "        },\n",
    "        {\n",
    "            \"type\": \"function\",\n",
    "            \"function\": {\n",
    "                \"name\": \"get_current_time\",\n",
    "                \"description\": \"Get the current time in a given location\",\n",
    "                \"parameters\": {\n",
    "                    \"type\": \"object\",\n",
    "                    \"properties\": {\n",
    "                        \"location\": {\n",
    "                            \"type\": \"string\",\n",
    "                            \"description\": \"The city name, e.g. San Francisco\",\n",
    "                        },\n",
    "                    },\n",
    "                    \"required\": [\"location\"],\n",
    "                },\n",
    "            }\n",
    "        }\n",
    "    ]\n",
    "\n",
    "    # First API call: Ask the model to use the functions\n",
    "    response = client.chat.completions.create(\n",
    "        model=deployment_name,\n",
    "        messages=messages,\n",
    "        tools=tools,\n",
    "        tool_choice=\"auto\",\n",
    "    )\n",
    "\n",
    "    # Process the model's response\n",
    "    response_message = response.choices[0].message\n",
    "    messages.append(response_message)\n",
    "\n",
    "    print(\"Model's response:\")  \n",
    "    print(response_message)  \n",
    "\n",
    "    # Handle function calls\n",
    "    toolcallCount = 0\n",
    "\n",
    "\n",
    "    if response_message.tool_calls:\n",
    "        with ThreadPoolExecutor() as executor:  \n",
    "            future_to_tool_call = {  \n",
    "                executor.submit(handle_tool_call, tool_call): tool_call  \n",
    "                for tool_call in response_message.tool_calls  \n",
    "            }  \n",
    "    \n",
    "            for future in as_completed(future_to_tool_call):  \n",
    "                toolcallCount += 1  \n",
    "                print(f\"Tool call {toolcallCount}\")  \n",
    "                result = future.result()  \n",
    "                messages.append(result)  \n",
    "    else:  \n",
    "        print(\"No tool calls were made by the model.\") \n",
    "\n",
    "\n",
    "    print('************************************')\n",
    "    \n",
    "    print('!!!!!!!!!!!!!!!!!!!!!!!!!!!!!!!!')\n",
    "    print(messages)\n",
    "\n",
    "    # Second API call: Get the final response from the model\n",
    "    final_response = client.chat.completions.create(\n",
    "        model=deployment_name,\n",
    "        messages=messages,\n",
    "    )\n",
    "\n",
    "    return final_response.choices[0].message.content, messages\n",
    "    return '', messages\n",
    "\n",
    "# Run the conversation and print the result\n",
    "time1 = datetime.now()\n",
    "final_message, messages = run_conversation()\n",
    "time2 = datetime.now()\n",
    "time_difference = time2 - time1\n",
    "print('******************************************')\n",
    "\n",
    "\n",
    "print(final_message)"
   ]
  },
  {
   "cell_type": "code",
   "execution_count": 11,
   "metadata": {},
   "outputs": [
    {
     "name": "stdout",
     "output_type": "stream",
     "text": [
      "Total seconds: 23.907857 seconds\n"
     ]
    }
   ],
   "source": [
    "print(f\"Total seconds: {time_difference.total_seconds()} seconds\")"
   ]
  },
  {
   "cell_type": "code",
   "execution_count": null,
   "metadata": {},
   "outputs": [],
   "source": []
  }
 ],
 "metadata": {
  "kernelspec": {
   "display_name": "Python 3",
   "language": "python",
   "name": "python3"
  },
  "language_info": {
   "codemirror_mode": {
    "name": "ipython",
    "version": 3
   },
   "file_extension": ".py",
   "mimetype": "text/x-python",
   "name": "python",
   "nbconvert_exporter": "python",
   "pygments_lexer": "ipython3",
   "version": "3.11.9"
  }
 },
 "nbformat": 4,
 "nbformat_minor": 2
}
